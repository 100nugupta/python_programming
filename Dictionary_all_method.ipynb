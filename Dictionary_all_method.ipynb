{
  "nbformat": 4,
  "nbformat_minor": 0,
  "metadata": {
    "colab": {
      "provenance": []
    },
    "kernelspec": {
      "name": "python3",
      "display_name": "Python 3"
    },
    "language_info": {
      "name": "python"
    }
  },
  "cells": [
    {
      "cell_type": "code",
      "execution_count": 23,
      "metadata": {
        "colab": {
          "base_uri": "https://localhost:8080/"
        },
        "id": "dlj5DuVGvdK-",
        "outputId": "f0d6f7e6-af9e-4ef0-af2d-c74f85ee4108"
      },
      "outputs": [
        {
          "output_type": "execute_result",
          "data": {
            "text/plain": [
              "{'size': 'fat', 'color': 'gray', 'disposition': 'loud', 'Age_year': 2}"
            ]
          },
          "metadata": {},
          "execution_count": 23
        }
      ],
      "source": [
        "my_cat = {\n",
        "    'size': 'fat',\n",
        "    'color': 'gray',\n",
        "    'disposition': 'loud'\n",
        "}\n",
        "#add a key value in our dict\n",
        "my_cat['Age_year']=2\n",
        "#getting a updated dict\n",
        "my_cat"
      ]
    },
    {
      "cell_type": "code",
      "source": [
        "#getting value using key\n",
        "\n",
        "my_cat['size']\n"
      ],
      "metadata": {
        "colab": {
          "base_uri": "https://localhost:8080/",
          "height": 35
        },
        "id": "l22rEWN3wBJ5",
        "outputId": "5e15abf4-685f-4bd3-903d-f93a3c2a7341"
      },
      "execution_count": 2,
      "outputs": [
        {
          "output_type": "execute_result",
          "data": {
            "text/plain": [
              "'fat'"
            ],
            "application/vnd.google.colaboratory.intrinsic+json": {
              "type": "string"
            }
          },
          "metadata": {},
          "execution_count": 2
        }
      ]
    },
    {
      "cell_type": "code",
      "source": [
        "#getting all values using for loop\n",
        "\n",
        "for i in my_cat.values():\n",
        "  print(i)\n",
        "  \n"
      ],
      "metadata": {
        "colab": {
          "base_uri": "https://localhost:8080/"
        },
        "id": "f05pDWzNwIgD",
        "outputId": "09492ea2-8c61-442c-eb06-ed47e08ec942"
      },
      "execution_count": 3,
      "outputs": [
        {
          "output_type": "stream",
          "name": "stdout",
          "text": [
            "fat\n",
            "gray\n",
            "loud\n",
            "2\n"
          ]
        }
      ]
    },
    {
      "cell_type": "code",
      "source": [
        "#getting all keys using for loop\n",
        "for j in my_cat.keys():\n",
        "  print(j)\n"
      ],
      "metadata": {
        "colab": {
          "base_uri": "https://localhost:8080/"
        },
        "id": "Aplf_tIZwj-2",
        "outputId": "bb81cb4e-be9f-4a4c-d3fa-aade9c438cac"
      },
      "execution_count": 4,
      "outputs": [
        {
          "output_type": "stream",
          "name": "stdout",
          "text": [
            "size\n",
            "color\n",
            "disposition\n",
            "Age_year\n"
          ]
        }
      ]
    },
    {
      "cell_type": "code",
      "source": [
        "#items\n",
        "\n",
        "for k in my_cat.items():\n",
        "  print(k)\n"
      ],
      "metadata": {
        "colab": {
          "base_uri": "https://localhost:8080/"
        },
        "id": "PldeA23lwu-3",
        "outputId": "042798c6-f562-437f-df48-674454413783"
      },
      "execution_count": 10,
      "outputs": [
        {
          "output_type": "stream",
          "name": "stdout",
          "text": [
            "('size', 'fat')\n",
            "('color', 'gray')\n",
            "('disposition', 'loud')\n",
            "('Age_year', 2)\n"
          ]
        }
      ]
    },
    {
      "cell_type": "code",
      "source": [
        "pet = {'color': 'red', 'age': 42}\n",
        "for k in pet.items():\n",
        "  print(k)\n",
        "  "
      ],
      "metadata": {
        "colab": {
          "base_uri": "https://localhost:8080/"
        },
        "id": "P0JIPIJ1xoyz",
        "outputId": "ffc592f8-163b-407a-e371-3306eae67722"
      },
      "execution_count": 9,
      "outputs": [
        {
          "output_type": "stream",
          "name": "stdout",
          "text": [
            "('color', 'red')\n",
            "('age', 42)\n"
          ]
        }
      ]
    },
    {
      "cell_type": "code",
      "source": [
        "#get>>> get method is to return the value with the given key\n",
        "pet = {'color': 'red', 'age': 42}\n",
        "pet.get('color')\n",
        "pet.get('age')\n"
      ],
      "metadata": {
        "colab": {
          "base_uri": "https://localhost:8080/"
        },
        "id": "Nw7X_7ujxxK9",
        "outputId": "cd739a3c-65a1-4bba-8c8a-78c0e484783a"
      },
      "execution_count": 14,
      "outputs": [
        {
          "output_type": "execute_result",
          "data": {
            "text/plain": [
              "42"
            ]
          },
          "metadata": {},
          "execution_count": 14
        }
      ]
    },
    {
      "cell_type": "code",
      "source": [
        "wife = {'name': 'Rose', 'age': 33}\n",
        "wife.get('name')\n",
        "print(f\"My wife name is {wife.get('name')} and her age is {wife.get('age')}\")"
      ],
      "metadata": {
        "colab": {
          "base_uri": "https://localhost:8080/"
        },
        "id": "5LEbU8PSzjpe",
        "outputId": "1d47f0d5-4fb1-47b5-9eb1-c426be8e9679"
      },
      "execution_count": 17,
      "outputs": [
        {
          "output_type": "stream",
          "name": "stdout",
          "text": [
            "My wife name is Rose and her age is 33\n"
          ]
        }
      ]
    },
    {
      "cell_type": "code",
      "source": [
        "#update method>>> we use it for update the key values pair\n",
        "wife.update({'age':14})\n",
        "wife\n",
        "print(f\"My wife name is {wife.get('name')} and her age is {wife.get('age')}\")"
      ],
      "metadata": {
        "colab": {
          "base_uri": "https://localhost:8080/"
        },
        "id": "g2r7ld_M0Kkg",
        "outputId": "34474db5-4d39-436f-cf53-487f37b4d776"
      },
      "execution_count": 22,
      "outputs": [
        {
          "output_type": "stream",
          "name": "stdout",
          "text": [
            "My wife name is Rose and her age is 14\n"
          ]
        }
      ]
    },
    {
      "cell_type": "code",
      "source": [
        "#Adding items with setdefault()\n",
        "my_cat = {\n",
        "    'size': 'fat',\n",
        "    'color': 'gray',\n",
        "    'disposition': 'loud'\n",
        "}\n",
        "my_cat.setdefault('food','non veg')\n",
        "my_cat\n",
        "\n"
      ],
      "metadata": {
        "colab": {
          "base_uri": "https://localhost:8080/"
        },
        "id": "MV33zpZB0lZl",
        "outputId": "3920169b-a4a3-4f52-9c42-dd18019d73d5"
      },
      "execution_count": 26,
      "outputs": [
        {
          "output_type": "execute_result",
          "data": {
            "text/plain": [
              "{'size': 'fat', 'color': 'gray', 'disposition': 'loud', 'food': 'non veg'}"
            ]
          },
          "metadata": {},
          "execution_count": 26
        }
      ]
    },
    {
      "cell_type": "code",
      "source": [
        "#Removing items.\n",
        "\n",
        "#Methods to remove the items in dictionary are\n",
        "'''\n",
        "1.pop\n",
        "2.popitems\n",
        "3.del\n",
        "4.clear\n",
        "'''\n",
        "student={'name':'rajiv', 'grade':10, 'marks':420, 'status': 'pass'}\n",
        "student.pop('name')\n",
        "print(student)\n",
        "#here name has removed\n"
      ],
      "metadata": {
        "colab": {
          "base_uri": "https://localhost:8080/"
        },
        "id": "E_iUBjQB2zfy",
        "outputId": "897c79c0-5b21-4053-f2ce-083d72793449"
      },
      "execution_count": 28,
      "outputs": [
        {
          "output_type": "stream",
          "name": "stdout",
          "text": [
            "{'grade': 10, 'marks': 420, 'status': 'pass'}\n"
          ]
        }
      ]
    },
    {
      "cell_type": "code",
      "source": [
        "#popitem>>it remove the last element of the dictionary\n",
        "\n",
        "student.popitem()\n",
        "\n",
        "print(student)\n"
      ],
      "metadata": {
        "colab": {
          "base_uri": "https://localhost:8080/"
        },
        "id": "n-bR_IqE5Ks6",
        "outputId": "543a1e80-d775-4f35-97e9-ad02f2ebd565"
      },
      "execution_count": 31,
      "outputs": [
        {
          "output_type": "stream",
          "name": "stdout",
          "text": [
            "{'grade': 10}\n"
          ]
        }
      ]
    },
    {
      "cell_type": "code",
      "source": [],
      "metadata": {
        "colab": {
          "base_uri": "https://localhost:8080/"
        },
        "id": "m4obu7tA5hBo",
        "outputId": "0185fc65-9f40-483b-e993-2f46c59220c7"
      },
      "execution_count": 32,
      "outputs": [
        {
          "output_type": "execute_result",
          "data": {
            "text/plain": [
              "{'grade': 10}"
            ]
          },
          "metadata": {},
          "execution_count": 32
        }
      ]
    },
    {
      "cell_type": "code",
      "source": [
        "#delete\n",
        "#It delete the values of dict of given key\n",
        "student={'name':'rajiv', 'grade':10, 'marks':420, 'status': 'pass'}\n",
        "del student['status']\n",
        "print(student)\n",
        "#here status key value pair has deleted in the output\n",
        "\n"
      ],
      "metadata": {
        "colab": {
          "base_uri": "https://localhost:8080/"
        },
        "id": "Q00r_gMI5rsS",
        "outputId": "3e7cb0fb-f0d7-4e52-f714-06072f5260c5"
      },
      "execution_count": 37,
      "outputs": [
        {
          "output_type": "stream",
          "name": "stdout",
          "text": [
            "{'name': 'rajiv', 'grade': 10, 'marks': 420}\n"
          ]
        }
      ]
    },
    {
      "cell_type": "code",
      "source": [
        "#clear()\n",
        "#The clear() method removes all the items in a dictionary.\n",
        "student={'name':'rajiv', 'grade':10, 'marks':420, 'status': 'pass'}\n",
        "student.clear()\n",
        "student\n"
      ],
      "metadata": {
        "colab": {
          "base_uri": "https://localhost:8080/"
        },
        "id": "lwnTAi7Z6L7s",
        "outputId": "4fd54a5a-4c71-4354-a218-9e8793962d64"
      },
      "execution_count": 39,
      "outputs": [
        {
          "output_type": "execute_result",
          "data": {
            "text/plain": [
              "{}"
            ]
          },
          "metadata": {},
          "execution_count": 39
        }
      ]
    },
    {
      "cell_type": "code",
      "source": [
        "#checking keys in dict\n",
        "\n",
        "animals={'dog':'bark', 'giraffe':'cry', 'camel':'nuzzling', 'crow':'cah'}\n",
        "'dog' in animals.keys()"
      ],
      "metadata": {
        "colab": {
          "base_uri": "https://localhost:8080/"
        },
        "id": "3uO0kT2X6soX",
        "outputId": "88bd6572-c8b9-4cf6-b05d-61ca3125163f"
      },
      "execution_count": 41,
      "outputs": [
        {
          "output_type": "execute_result",
          "data": {
            "text/plain": [
              "True"
            ]
          },
          "metadata": {},
          "execution_count": 41
        }
      ]
    },
    {
      "cell_type": "code",
      "source": [
        "#checking values in dict\n",
        "'cry' in animals.values()\n"
      ],
      "metadata": {
        "colab": {
          "base_uri": "https://localhost:8080/"
        },
        "id": "vJY-IFs37WD1",
        "outputId": "9348a024-cf8a-4d86-fed1-f5e3f79668a5"
      },
      "execution_count": 42,
      "outputs": [
        {
          "output_type": "execute_result",
          "data": {
            "text/plain": [
              "True"
            ]
          },
          "metadata": {},
          "execution_count": 42
        }
      ]
    },
    {
      "cell_type": "code",
      "source": [
        "#Merge two dict >>>>using |\n",
        "dict1={'fruit':'apple', 'veg':'onion', 'non-veg':'fish'}\n",
        "dict_2={'country':'India', 'capital':'Delhi', 'Currency':'Rupaye'}\n",
        "print(dict1|dict_2)\n",
        "\n"
      ],
      "metadata": {
        "colab": {
          "base_uri": "https://localhost:8080/"
        },
        "id": "wrBBBdVD7z-R",
        "outputId": "a952d973-6f40-4280-941d-b407c8cc0365"
      },
      "execution_count": 48,
      "outputs": [
        {
          "output_type": "stream",
          "name": "stdout",
          "text": [
            "{'fruit': 'apple', 'veg': 'onion', 'non-veg': 'fish', 'country': 'India', 'capital': 'Delhi', 'Currency': 'Rupaye'}\n"
          ]
        }
      ]
    }
  ]
}